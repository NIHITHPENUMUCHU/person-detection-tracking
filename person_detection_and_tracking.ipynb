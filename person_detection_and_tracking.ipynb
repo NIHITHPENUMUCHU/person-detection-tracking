{
  "nbformat": 4,
  "nbformat_minor": 0,
  "metadata": {
    "colab": {
      "provenance": [],
      "authorship_tag": "ABX9TyPLjASltia6ANpSrlLRR7xZ",
      "include_colab_link": true
    },
    "kernelspec": {
      "name": "python3",
      "display_name": "Python 3"
    },
    "language_info": {
      "name": "python"
    }
  },
  "cells": [
    {
      "cell_type": "markdown",
      "metadata": {
        "id": "view-in-github",
        "colab_type": "text"
      },
      "source": [
        "<a href=\"https://colab.research.google.com/github/NIHITHPENUMUCHU/person-detection-tracking/blob/main/person_detection_and_tracking.ipynb\" target=\"_parent\"><img src=\"https://colab.research.google.com/assets/colab-badge.svg\" alt=\"Open In Colab\"/></a>"
      ]
    },
    {
      "cell_type": "code",
      "source": [
        "# Install required libraries\n",
        "!pip install torch torchvision torchaudio\n",
        "!pip install ultralytics\n",
        "!pip install deep_sort"
      ],
      "metadata": {
        "colab": {
          "base_uri": "https://localhost:8080/"
        },
        "id": "POAfmf3QeGH2",
        "outputId": "f2ba1ad7-20bf-4cc8-f266-30972ec47cb3"
      },
      "execution_count": 9,
      "outputs": [
        {
          "output_type": "stream",
          "name": "stdout",
          "text": [
            "Requirement already satisfied: torch in /usr/local/lib/python3.10/dist-packages (2.4.0+cu121)\n",
            "Requirement already satisfied: torchvision in /usr/local/lib/python3.10/dist-packages (0.19.0+cu121)\n",
            "Requirement already satisfied: torchaudio in /usr/local/lib/python3.10/dist-packages (2.4.0+cu121)\n",
            "Requirement already satisfied: filelock in /usr/local/lib/python3.10/dist-packages (from torch) (3.15.4)\n",
            "Requirement already satisfied: typing-extensions>=4.8.0 in /usr/local/lib/python3.10/dist-packages (from torch) (4.12.2)\n",
            "Requirement already satisfied: sympy in /usr/local/lib/python3.10/dist-packages (from torch) (1.13.2)\n",
            "Requirement already satisfied: networkx in /usr/local/lib/python3.10/dist-packages (from torch) (3.3)\n",
            "Requirement already satisfied: jinja2 in /usr/local/lib/python3.10/dist-packages (from torch) (3.1.4)\n",
            "Requirement already satisfied: fsspec in /usr/local/lib/python3.10/dist-packages (from torch) (2024.6.1)\n",
            "Requirement already satisfied: numpy in /usr/local/lib/python3.10/dist-packages (from torchvision) (1.26.4)\n",
            "Requirement already satisfied: pillow!=8.3.*,>=5.3.0 in /usr/local/lib/python3.10/dist-packages (from torchvision) (10.4.0)\n",
            "Requirement already satisfied: MarkupSafe>=2.0 in /usr/local/lib/python3.10/dist-packages (from jinja2->torch) (2.1.5)\n",
            "Requirement already satisfied: mpmath<1.4,>=1.1.0 in /usr/local/lib/python3.10/dist-packages (from sympy->torch) (1.3.0)\n",
            "Requirement already satisfied: ultralytics in /usr/local/lib/python3.10/dist-packages (8.2.87)\n",
            "Requirement already satisfied: numpy<2.0.0,>=1.23.0 in /usr/local/lib/python3.10/dist-packages (from ultralytics) (1.26.4)\n",
            "Requirement already satisfied: matplotlib>=3.3.0 in /usr/local/lib/python3.10/dist-packages (from ultralytics) (3.7.1)\n",
            "Requirement already satisfied: opencv-python>=4.6.0 in /usr/local/lib/python3.10/dist-packages (from ultralytics) (4.9.0.80)\n",
            "Requirement already satisfied: pillow>=7.1.2 in /usr/local/lib/python3.10/dist-packages (from ultralytics) (10.4.0)\n",
            "Requirement already satisfied: pyyaml>=5.3.1 in /usr/local/lib/python3.10/dist-packages (from ultralytics) (6.0.2)\n",
            "Requirement already satisfied: requests>=2.23.0 in /usr/local/lib/python3.10/dist-packages (from ultralytics) (2.32.3)\n",
            "Requirement already satisfied: scipy>=1.4.1 in /usr/local/lib/python3.10/dist-packages (from ultralytics) (1.13.1)\n",
            "Requirement already satisfied: torch>=1.8.0 in /usr/local/lib/python3.10/dist-packages (from ultralytics) (2.4.0+cu121)\n",
            "Requirement already satisfied: torchvision>=0.9.0 in /usr/local/lib/python3.10/dist-packages (from ultralytics) (0.19.0+cu121)\n",
            "Requirement already satisfied: tqdm>=4.64.0 in /usr/local/lib/python3.10/dist-packages (from ultralytics) (4.66.5)\n",
            "Requirement already satisfied: psutil in /usr/local/lib/python3.10/dist-packages (from ultralytics) (5.9.5)\n",
            "Requirement already satisfied: py-cpuinfo in /usr/local/lib/python3.10/dist-packages (from ultralytics) (9.0.0)\n",
            "Requirement already satisfied: pandas>=1.1.4 in /usr/local/lib/python3.10/dist-packages (from ultralytics) (2.1.4)\n",
            "Requirement already satisfied: seaborn>=0.11.0 in /usr/local/lib/python3.10/dist-packages (from ultralytics) (0.13.1)\n",
            "Requirement already satisfied: ultralytics-thop>=2.0.0 in /usr/local/lib/python3.10/dist-packages (from ultralytics) (2.0.6)\n",
            "Requirement already satisfied: contourpy>=1.0.1 in /usr/local/lib/python3.10/dist-packages (from matplotlib>=3.3.0->ultralytics) (1.3.0)\n",
            "Requirement already satisfied: cycler>=0.10 in /usr/local/lib/python3.10/dist-packages (from matplotlib>=3.3.0->ultralytics) (0.12.1)\n",
            "Requirement already satisfied: fonttools>=4.22.0 in /usr/local/lib/python3.10/dist-packages (from matplotlib>=3.3.0->ultralytics) (4.53.1)\n",
            "Requirement already satisfied: kiwisolver>=1.0.1 in /usr/local/lib/python3.10/dist-packages (from matplotlib>=3.3.0->ultralytics) (1.4.5)\n",
            "Requirement already satisfied: packaging>=20.0 in /usr/local/lib/python3.10/dist-packages (from matplotlib>=3.3.0->ultralytics) (24.1)\n",
            "Requirement already satisfied: pyparsing>=2.3.1 in /usr/local/lib/python3.10/dist-packages (from matplotlib>=3.3.0->ultralytics) (3.1.4)\n",
            "Requirement already satisfied: python-dateutil>=2.7 in /usr/local/lib/python3.10/dist-packages (from matplotlib>=3.3.0->ultralytics) (2.8.2)\n",
            "Requirement already satisfied: pytz>=2020.1 in /usr/local/lib/python3.10/dist-packages (from pandas>=1.1.4->ultralytics) (2024.1)\n",
            "Requirement already satisfied: tzdata>=2022.1 in /usr/local/lib/python3.10/dist-packages (from pandas>=1.1.4->ultralytics) (2024.1)\n",
            "Requirement already satisfied: charset-normalizer<4,>=2 in /usr/local/lib/python3.10/dist-packages (from requests>=2.23.0->ultralytics) (3.3.2)\n",
            "Requirement already satisfied: idna<4,>=2.5 in /usr/local/lib/python3.10/dist-packages (from requests>=2.23.0->ultralytics) (3.7)\n",
            "Requirement already satisfied: urllib3<3,>=1.21.1 in /usr/local/lib/python3.10/dist-packages (from requests>=2.23.0->ultralytics) (2.0.7)\n",
            "Requirement already satisfied: certifi>=2017.4.17 in /usr/local/lib/python3.10/dist-packages (from requests>=2.23.0->ultralytics) (2024.8.30)\n",
            "Requirement already satisfied: filelock in /usr/local/lib/python3.10/dist-packages (from torch>=1.8.0->ultralytics) (3.15.4)\n",
            "Requirement already satisfied: typing-extensions>=4.8.0 in /usr/local/lib/python3.10/dist-packages (from torch>=1.8.0->ultralytics) (4.12.2)\n",
            "Requirement already satisfied: sympy in /usr/local/lib/python3.10/dist-packages (from torch>=1.8.0->ultralytics) (1.13.2)\n",
            "Requirement already satisfied: networkx in /usr/local/lib/python3.10/dist-packages (from torch>=1.8.0->ultralytics) (3.3)\n",
            "Requirement already satisfied: jinja2 in /usr/local/lib/python3.10/dist-packages (from torch>=1.8.0->ultralytics) (3.1.4)\n",
            "Requirement already satisfied: fsspec in /usr/local/lib/python3.10/dist-packages (from torch>=1.8.0->ultralytics) (2024.6.1)\n",
            "Requirement already satisfied: six>=1.5 in /usr/local/lib/python3.10/dist-packages (from python-dateutil>=2.7->matplotlib>=3.3.0->ultralytics) (1.16.0)\n",
            "Requirement already satisfied: MarkupSafe>=2.0 in /usr/local/lib/python3.10/dist-packages (from jinja2->torch>=1.8.0->ultralytics) (2.1.5)\n",
            "Requirement already satisfied: mpmath<1.4,>=1.1.0 in /usr/local/lib/python3.10/dist-packages (from sympy->torch>=1.8.0->ultralytics) (1.3.0)\n",
            "\u001b[31mERROR: Could not find a version that satisfies the requirement deep_sort (from versions: none)\u001b[0m\u001b[31m\n",
            "\u001b[0m\u001b[31mERROR: No matching distribution found for deep_sort\u001b[0m\u001b[31m\n",
            "\u001b[0m"
          ]
        }
      ]
    },
    {
      "cell_type": "code",
      "source": [
        "!git clone https://github.com/ultralytics/yolov5\n",
        "!git clone https://github.com/ZQPei/deep_sort_pytorch.git"
      ],
      "metadata": {
        "colab": {
          "base_uri": "https://localhost:8080/"
        },
        "id": "CaYoog8geMnI",
        "outputId": "f41d6be6-0df5-43fc-e7c9-59bcbaf10116"
      },
      "execution_count": 10,
      "outputs": [
        {
          "output_type": "stream",
          "name": "stdout",
          "text": [
            "Cloning into 'yolov5'...\n",
            "remote: Enumerating objects: 16959, done.\u001b[K\n",
            "remote: Counting objects: 100% (154/154), done.\u001b[K\n",
            "remote: Compressing objects: 100% (97/97), done.\u001b[K\n",
            "remote: Total 16959 (delta 78), reused 108 (delta 57), pack-reused 16805 (from 1)\u001b[K\n",
            "Receiving objects: 100% (16959/16959), 15.70 MiB | 16.13 MiB/s, done.\n",
            "Resolving deltas: 100% (11616/11616), done.\n",
            "Cloning into 'deep_sort_pytorch'...\n",
            "remote: Enumerating objects: 1078, done.\u001b[K\n",
            "remote: Counting objects: 100% (352/352), done.\u001b[K\n",
            "remote: Compressing objects: 100% (258/258), done.\u001b[K\n",
            "remote: Total 1078 (delta 155), reused 261 (delta 90), pack-reused 726 (from 1)\u001b[K\n",
            "Receiving objects: 100% (1078/1078), 29.15 MiB | 17.11 MiB/s, done.\n",
            "Resolving deltas: 100% (506/506), done.\n"
          ]
        }
      ]
    },
    {
      "cell_type": "code",
      "source": [
        "!git clone https://github.com/ultralytics/yolov5\n",
        "!git clone https://github.com/mikel-brostrom/Yolov5_DeepSort_Pytorch.git"
      ],
      "metadata": {
        "colab": {
          "base_uri": "https://localhost:8080/"
        },
        "id": "tO1kSCRzeg8J",
        "outputId": "d39089e9-be20-4f88-e086-6fe06eb83977"
      },
      "execution_count": 11,
      "outputs": [
        {
          "output_type": "stream",
          "name": "stdout",
          "text": [
            "fatal: destination path 'yolov5' already exists and is not an empty directory.\n",
            "Cloning into 'Yolov5_DeepSort_Pytorch'...\n",
            "remote: Enumerating objects: 13782, done.\u001b[K\n",
            "remote: Counting objects: 100% (2521/2521), done.\u001b[K\n",
            "remote: Compressing objects: 100% (916/916), done.\u001b[K\n",
            "remote: Total 13782 (delta 1774), reused 2235 (delta 1605), pack-reused 11261 (from 1)\u001b[K\n",
            "Receiving objects: 100% (13782/13782), 111.73 MiB | 27.14 MiB/s, done.\n",
            "Resolving deltas: 100% (8724/8724), done.\n"
          ]
        }
      ]
    },
    {
      "cell_type": "code",
      "source": [
        "!pip install -qr yolov5/requirements.txt\n",
        "!pip install -q torch torchvision torchaudio"
      ],
      "metadata": {
        "id": "i2IC3Vqbejc8"
      },
      "execution_count": 12,
      "outputs": []
    },
    {
      "cell_type": "code",
      "source": [
        "!wget https://drive.google.com/drive/folders/1KCa19B4kpZwhTUTtGyuvR7h_w47OFBAm?usp=sharing -O test_video.mp4"
      ],
      "metadata": {
        "colab": {
          "base_uri": "https://localhost:8080/"
        },
        "id": "ybGnhoa-el_H",
        "outputId": "56fa1405-ba38-431a-a328-d0147588fd71"
      },
      "execution_count": 18,
      "outputs": [
        {
          "output_type": "stream",
          "name": "stdout",
          "text": [
            "--2024-09-05 18:43:50--  https://drive.google.com/drive/folders/1KCa19B4kpZwhTUTtGyuvR7h_w47OFBAm?usp=sharing\n",
            "Resolving drive.google.com (drive.google.com)... 74.125.139.139, 74.125.139.138, 74.125.139.100, ...\n",
            "Connecting to drive.google.com (drive.google.com)|74.125.139.139|:443... connected.\n",
            "HTTP request sent, awaiting response... 200 OK\n",
            "Length: unspecified [text/html]\n",
            "Saving to: ‘test_video.mp4’\n",
            "\n",
            "test_video.mp4          [  <=>               ] 265.65K  1.24MB/s    in 0.2s    \n",
            "\n",
            "2024-09-05 18:43:51 (1.24 MB/s) - ‘test_video.mp4’ saved [272021]\n",
            "\n"
          ]
        }
      ]
    },
    {
      "cell_type": "code",
      "source": [
        "!pip install -e ./Yolov5_DeepSort_Pytorch\n"
      ],
      "metadata": {
        "colab": {
          "base_uri": "https://localhost:8080/"
        },
        "id": "IeQM8KcriO4h",
        "outputId": "39de762a-97de-4509-daaa-bbccb44a1ba5"
      },
      "execution_count": 25,
      "outputs": [
        {
          "output_type": "stream",
          "name": "stdout",
          "text": [
            "Obtaining file:///content/Yolov5_DeepSort_Pytorch\n",
            "  Installing build dependencies ... \u001b[?25l\u001b[?25hdone\n",
            "  Checking if build backend supports build_editable ... \u001b[?25l\u001b[?25hdone\n",
            "  Getting requirements to build editable ... \u001b[?25l\u001b[?25hdone\n",
            "  Preparing editable metadata (pyproject.toml) ... \u001b[?25l\u001b[?25hdone\n",
            "Requirement already satisfied: filterpy<2.0.0,>=1.4.5 in /usr/local/lib/python3.10/dist-packages (from boxmot==10.0.80) (1.4.5)\n",
            "Requirement already satisfied: ftfy<7.0.0,>=6.1.3 in /usr/local/lib/python3.10/dist-packages (from boxmot==10.0.80) (6.2.3)\n",
            "Requirement already satisfied: gdown<6.0.0,>=5.1.0 in /usr/local/lib/python3.10/dist-packages (from boxmot==10.0.80) (5.1.0)\n",
            "Requirement already satisfied: gitpython<4.0.0,>=3.1.42 in /usr/local/lib/python3.10/dist-packages (from boxmot==10.0.80) (3.1.43)\n",
            "Requirement already satisfied: lapx<0.6.0,>=0.5.5 in /usr/local/lib/python3.10/dist-packages (from boxmot==10.0.80) (0.5.10.post1)\n",
            "Requirement already satisfied: loguru<0.8.0,>=0.7.2 in /usr/local/lib/python3.10/dist-packages (from boxmot==10.0.80) (0.7.2)\n",
            "Requirement already satisfied: numpy==1.26.4 in /usr/local/lib/python3.10/dist-packages (from boxmot==10.0.80) (1.26.4)\n",
            "Requirement already satisfied: opencv-python<5.0.0,>=4.7.0 in /usr/local/lib/python3.10/dist-packages (from boxmot==10.0.80) (4.9.0.80)\n",
            "Requirement already satisfied: pandas<3.0.0,>=2.0.0 in /usr/local/lib/python3.10/dist-packages (from boxmot==10.0.80) (2.1.4)\n",
            "Requirement already satisfied: pyyaml<7.0.0,>=6.0.1 in /usr/local/lib/python3.10/dist-packages (from boxmot==10.0.80) (6.0.2)\n",
            "Requirement already satisfied: regex<2025.0.0,>=2024.0.0 in /usr/local/lib/python3.10/dist-packages (from boxmot==10.0.80) (2024.5.15)\n",
            "Requirement already satisfied: scikit-learn<2.0.0,>=1.3.0 in /usr/local/lib/python3.10/dist-packages (from boxmot==10.0.80) (1.3.2)\n",
            "Requirement already satisfied: torch<3.0.0,>=2.2.1 in /usr/local/lib/python3.10/dist-packages (from boxmot==10.0.80) (2.2.2)\n",
            "Requirement already satisfied: torchvision<0.18.0,>=0.17.1 in /usr/local/lib/python3.10/dist-packages (from boxmot==10.0.80) (0.17.2)\n",
            "Requirement already satisfied: yacs<0.2.0,>=0.1.8 in /usr/local/lib/python3.10/dist-packages (from boxmot==10.0.80) (0.1.8)\n",
            "Requirement already satisfied: scipy in /usr/local/lib/python3.10/dist-packages (from filterpy<2.0.0,>=1.4.5->boxmot==10.0.80) (1.13.1)\n",
            "Requirement already satisfied: matplotlib in /usr/local/lib/python3.10/dist-packages (from filterpy<2.0.0,>=1.4.5->boxmot==10.0.80) (3.7.1)\n",
            "Requirement already satisfied: wcwidth<0.3.0,>=0.2.12 in /usr/local/lib/python3.10/dist-packages (from ftfy<7.0.0,>=6.1.3->boxmot==10.0.80) (0.2.13)\n",
            "Requirement already satisfied: beautifulsoup4 in /usr/local/lib/python3.10/dist-packages (from gdown<6.0.0,>=5.1.0->boxmot==10.0.80) (4.12.3)\n",
            "Requirement already satisfied: filelock in /usr/local/lib/python3.10/dist-packages (from gdown<6.0.0,>=5.1.0->boxmot==10.0.80) (3.15.4)\n",
            "Requirement already satisfied: requests[socks] in /usr/local/lib/python3.10/dist-packages (from gdown<6.0.0,>=5.1.0->boxmot==10.0.80) (2.32.3)\n",
            "Requirement already satisfied: tqdm in /usr/local/lib/python3.10/dist-packages (from gdown<6.0.0,>=5.1.0->boxmot==10.0.80) (4.66.5)\n",
            "Requirement already satisfied: gitdb<5,>=4.0.1 in /usr/local/lib/python3.10/dist-packages (from gitpython<4.0.0,>=3.1.42->boxmot==10.0.80) (4.0.11)\n",
            "Requirement already satisfied: python-dateutil>=2.8.2 in /usr/local/lib/python3.10/dist-packages (from pandas<3.0.0,>=2.0.0->boxmot==10.0.80) (2.8.2)\n",
            "Requirement already satisfied: pytz>=2020.1 in /usr/local/lib/python3.10/dist-packages (from pandas<3.0.0,>=2.0.0->boxmot==10.0.80) (2024.1)\n",
            "Requirement already satisfied: tzdata>=2022.1 in /usr/local/lib/python3.10/dist-packages (from pandas<3.0.0,>=2.0.0->boxmot==10.0.80) (2024.1)\n",
            "Requirement already satisfied: joblib>=1.1.1 in /usr/local/lib/python3.10/dist-packages (from scikit-learn<2.0.0,>=1.3.0->boxmot==10.0.80) (1.4.2)\n",
            "Requirement already satisfied: threadpoolctl>=2.0.0 in /usr/local/lib/python3.10/dist-packages (from scikit-learn<2.0.0,>=1.3.0->boxmot==10.0.80) (3.5.0)\n",
            "Requirement already satisfied: typing-extensions>=4.8.0 in /usr/local/lib/python3.10/dist-packages (from torch<3.0.0,>=2.2.1->boxmot==10.0.80) (4.12.2)\n",
            "Requirement already satisfied: sympy in /usr/local/lib/python3.10/dist-packages (from torch<3.0.0,>=2.2.1->boxmot==10.0.80) (1.13.2)\n",
            "Requirement already satisfied: networkx in /usr/local/lib/python3.10/dist-packages (from torch<3.0.0,>=2.2.1->boxmot==10.0.80) (3.3)\n",
            "Requirement already satisfied: jinja2 in /usr/local/lib/python3.10/dist-packages (from torch<3.0.0,>=2.2.1->boxmot==10.0.80) (3.1.4)\n",
            "Requirement already satisfied: fsspec in /usr/local/lib/python3.10/dist-packages (from torch<3.0.0,>=2.2.1->boxmot==10.0.80) (2024.6.1)\n",
            "Requirement already satisfied: nvidia-cuda-nvrtc-cu12==12.1.105 in /usr/local/lib/python3.10/dist-packages (from torch<3.0.0,>=2.2.1->boxmot==10.0.80) (12.1.105)\n",
            "Requirement already satisfied: nvidia-cuda-runtime-cu12==12.1.105 in /usr/local/lib/python3.10/dist-packages (from torch<3.0.0,>=2.2.1->boxmot==10.0.80) (12.1.105)\n",
            "Requirement already satisfied: nvidia-cuda-cupti-cu12==12.1.105 in /usr/local/lib/python3.10/dist-packages (from torch<3.0.0,>=2.2.1->boxmot==10.0.80) (12.1.105)\n",
            "Requirement already satisfied: nvidia-cudnn-cu12==8.9.2.26 in /usr/local/lib/python3.10/dist-packages (from torch<3.0.0,>=2.2.1->boxmot==10.0.80) (8.9.2.26)\n",
            "Requirement already satisfied: nvidia-cublas-cu12==12.1.3.1 in /usr/local/lib/python3.10/dist-packages (from torch<3.0.0,>=2.2.1->boxmot==10.0.80) (12.1.3.1)\n",
            "Requirement already satisfied: nvidia-cufft-cu12==11.0.2.54 in /usr/local/lib/python3.10/dist-packages (from torch<3.0.0,>=2.2.1->boxmot==10.0.80) (11.0.2.54)\n",
            "Requirement already satisfied: nvidia-curand-cu12==10.3.2.106 in /usr/local/lib/python3.10/dist-packages (from torch<3.0.0,>=2.2.1->boxmot==10.0.80) (10.3.2.106)\n",
            "Requirement already satisfied: nvidia-cusolver-cu12==11.4.5.107 in /usr/local/lib/python3.10/dist-packages (from torch<3.0.0,>=2.2.1->boxmot==10.0.80) (11.4.5.107)\n",
            "Requirement already satisfied: nvidia-cusparse-cu12==12.1.0.106 in /usr/local/lib/python3.10/dist-packages (from torch<3.0.0,>=2.2.1->boxmot==10.0.80) (12.1.0.106)\n",
            "Requirement already satisfied: nvidia-nccl-cu12==2.19.3 in /usr/local/lib/python3.10/dist-packages (from torch<3.0.0,>=2.2.1->boxmot==10.0.80) (2.19.3)\n",
            "Requirement already satisfied: nvidia-nvtx-cu12==12.1.105 in /usr/local/lib/python3.10/dist-packages (from torch<3.0.0,>=2.2.1->boxmot==10.0.80) (12.1.105)\n",
            "Requirement already satisfied: triton==2.2.0 in /usr/local/lib/python3.10/dist-packages (from torch<3.0.0,>=2.2.1->boxmot==10.0.80) (2.2.0)\n",
            "Requirement already satisfied: nvidia-nvjitlink-cu12 in /usr/local/lib/python3.10/dist-packages (from nvidia-cusolver-cu12==11.4.5.107->torch<3.0.0,>=2.2.1->boxmot==10.0.80) (12.6.68)\n",
            "Requirement already satisfied: pillow!=8.3.*,>=5.3.0 in /usr/local/lib/python3.10/dist-packages (from torchvision<0.18.0,>=0.17.1->boxmot==10.0.80) (10.4.0)\n",
            "Requirement already satisfied: smmap<6,>=3.0.1 in /usr/local/lib/python3.10/dist-packages (from gitdb<5,>=4.0.1->gitpython<4.0.0,>=3.1.42->boxmot==10.0.80) (5.0.1)\n",
            "Requirement already satisfied: six>=1.5 in /usr/local/lib/python3.10/dist-packages (from python-dateutil>=2.8.2->pandas<3.0.0,>=2.0.0->boxmot==10.0.80) (1.16.0)\n",
            "Requirement already satisfied: soupsieve>1.2 in /usr/local/lib/python3.10/dist-packages (from beautifulsoup4->gdown<6.0.0,>=5.1.0->boxmot==10.0.80) (2.6)\n",
            "Requirement already satisfied: MarkupSafe>=2.0 in /usr/local/lib/python3.10/dist-packages (from jinja2->torch<3.0.0,>=2.2.1->boxmot==10.0.80) (2.1.5)\n",
            "Requirement already satisfied: contourpy>=1.0.1 in /usr/local/lib/python3.10/dist-packages (from matplotlib->filterpy<2.0.0,>=1.4.5->boxmot==10.0.80) (1.3.0)\n",
            "Requirement already satisfied: cycler>=0.10 in /usr/local/lib/python3.10/dist-packages (from matplotlib->filterpy<2.0.0,>=1.4.5->boxmot==10.0.80) (0.12.1)\n",
            "Requirement already satisfied: fonttools>=4.22.0 in /usr/local/lib/python3.10/dist-packages (from matplotlib->filterpy<2.0.0,>=1.4.5->boxmot==10.0.80) (4.53.1)\n",
            "Requirement already satisfied: kiwisolver>=1.0.1 in /usr/local/lib/python3.10/dist-packages (from matplotlib->filterpy<2.0.0,>=1.4.5->boxmot==10.0.80) (1.4.5)\n",
            "Requirement already satisfied: packaging>=20.0 in /usr/local/lib/python3.10/dist-packages (from matplotlib->filterpy<2.0.0,>=1.4.5->boxmot==10.0.80) (24.1)\n",
            "Requirement already satisfied: pyparsing>=2.3.1 in /usr/local/lib/python3.10/dist-packages (from matplotlib->filterpy<2.0.0,>=1.4.5->boxmot==10.0.80) (3.1.4)\n",
            "Requirement already satisfied: charset-normalizer<4,>=2 in /usr/local/lib/python3.10/dist-packages (from requests[socks]->gdown<6.0.0,>=5.1.0->boxmot==10.0.80) (3.3.2)\n",
            "Requirement already satisfied: idna<4,>=2.5 in /usr/local/lib/python3.10/dist-packages (from requests[socks]->gdown<6.0.0,>=5.1.0->boxmot==10.0.80) (3.7)\n",
            "Requirement already satisfied: urllib3<3,>=1.21.1 in /usr/local/lib/python3.10/dist-packages (from requests[socks]->gdown<6.0.0,>=5.1.0->boxmot==10.0.80) (2.0.7)\n",
            "Requirement already satisfied: certifi>=2017.4.17 in /usr/local/lib/python3.10/dist-packages (from requests[socks]->gdown<6.0.0,>=5.1.0->boxmot==10.0.80) (2024.8.30)\n",
            "Requirement already satisfied: PySocks!=1.5.7,>=1.5.6 in /usr/local/lib/python3.10/dist-packages (from requests[socks]->gdown<6.0.0,>=5.1.0->boxmot==10.0.80) (1.7.1)\n",
            "Requirement already satisfied: mpmath<1.4,>=1.1.0 in /usr/local/lib/python3.10/dist-packages (from sympy->torch<3.0.0,>=2.2.1->boxmot==10.0.80) (1.3.0)\n",
            "Building wheels for collected packages: boxmot\n",
            "  Building editable for boxmot (pyproject.toml) ... \u001b[?25l\u001b[?25hdone\n",
            "  Created wheel for boxmot: filename=boxmot-10.0.80-py3-none-any.whl size=18845 sha256=9e9d588702c19fe16a061fc3ea9541b1426b666177ab9f68af895bc4da6cc164\n",
            "  Stored in directory: /tmp/pip-ephem-wheel-cache-s_6pgxln/wheels/fc/bc/40/f486ad989dde83e8e9523342a9e186d4d30314756dc042510b\n",
            "Successfully built boxmot\n",
            "Installing collected packages: boxmot\n",
            "  Attempting uninstall: boxmot\n",
            "    Found existing installation: boxmot 10.0.80\n",
            "    Uninstalling boxmot-10.0.80:\n",
            "      Successfully uninstalled boxmot-10.0.80\n",
            "Successfully installed boxmot-10.0.80\n"
          ]
        }
      ]
    },
    {
      "cell_type": "code",
      "source": [
        "import sys\n",
        "from pathlib import Path\n",
        "\n",
        "yolov5_path = Path(\"yolov5\")\n",
        "deep_sort_path = Path(\"Yolov5_DeepSort_Pytorch\") / 'deep_sort'  # Ensure deep_sort is correctly referenced\n",
        "\n",
        "sys.path.append(str(yolov5_path))\n",
        "sys.path.append(str(deep_sort_path))\n"
      ],
      "metadata": {
        "id": "389nN-2CiSpL"
      },
      "execution_count": 27,
      "outputs": []
    },
    {
      "cell_type": "code",
      "source": [
        "!ls Yolov5_DeepSort_Pytorch\n"
      ],
      "metadata": {
        "colab": {
          "base_uri": "https://localhost:8080/"
        },
        "id": "Yk-uQ2ZJiVtY",
        "outputId": "b94af3ab-69fc-4462-9db9-356df42a4f88"
      },
      "execution_count": 28,
      "outputs": [
        {
          "output_type": "stream",
          "name": "stdout",
          "text": [
            "assets\tCITATION.cff  LICENSE\t   poetry.lock\t   README.md\t  tests\n",
            "boxmot\tDockerfile    MANIFEST.in  pyproject.toml  renovate.json  tracking\n"
          ]
        }
      ]
    },
    {
      "cell_type": "code",
      "source": [
        "import sys\n",
        "import cv2\n",
        "import torch\n",
        "import numpy as np\n",
        "from pathlib import Path\n",
        "\n",
        "# Add YOLOv5 and DeepSort directories to path\n",
        "yolov5_path = Path(\"yolov5\")\n",
        "deep_sort_path = Path(\"Yolov5_DeepSort_Pytorch\")\n",
        "sys.path.append(str(yolov5_path))\n",
        "sys.path.append(str(deep_sort_path))\n",
        "\n",
        "from yolov5.models.experimental import attempt_load\n",
        "from yolov5.utils.general import non_max_suppression, scale_boxes\n",
        "from yolov5.utils.torch_utils import select_device\n",
        "from deep_sort import nn_matching\n",
        "from deep_sort.detection import Detection\n",
        "from deep_sort.tracker import Tracker\n",
        "\n",
        "# Load YOLOv5 model\n",
        "device = select_device('')\n",
        "model = attempt_load('yolov5s.pt', device=device)\n",
        "\n",
        "# Initialize Deep SORT\n",
        "max_cosine_distance = 0.3\n",
        "nn_budget = None\n",
        "metric = nn_matching.NearestNeighborDistanceMetric(\"cosine\", max_cosine_distance, nn_budget)\n",
        "tracker = Tracker(metric)\n",
        "\n",
        "def detect_and_track(frame, model, tracker):\n",
        "    # Prepare image\n",
        "    img = torch.from_numpy(frame).to(device).float()\n",
        "    img /= 255.0\n",
        "    if img.ndimension() == 3:\n",
        "        img = img.unsqueeze(0)\n",
        "\n",
        "    # Inference\n",
        "    pred = model(img)[0]\n",
        "\n",
        "    # Apply NMS\n",
        "    pred = non_max_suppression(pred, 0.4, 0.5)\n",
        "\n",
        "    # Process detections\n",
        "    detections = []\n",
        "    if pred[0] is not None:\n",
        "        for *xyxy, conf, cls in pred[0]:\n",
        "            if int(cls) == 0:  # Only track persons (class 0)\n",
        "                bbox = torch.tensor(xyxy).view(1, 4).view(-1).tolist()\n",
        "                detections.append(Detection(bbox, conf))\n",
        "\n",
        "    # Update tracker\n",
        "    tracker.predict()\n",
        "    tracker.update(detections)\n",
        "\n",
        "    # Draw results\n",
        "    for track in tracker.tracks:\n",
        "        if not track.is_confirmed() or track.time_since_update > 1:\n",
        "            continue\n",
        "        bbox = track.to_tlbr()\n",
        "        cv2.rectangle(frame, (int(bbox[0]), int(bbox[1])), (int(bbox[2]), int(bbox[3])), (255,0,0), 2)\n",
        "        cv2.putText(frame, f\"ID: {track.track_id}\", (int(bbox[0]), int(bbox[1])-10), cv2.FONT_HERSHEY_SIMPLEX, 0.9, (255,0,0), 2)\n",
        "\n",
        "    return frame\n",
        "\n",
        "def process_video(input_path, output_path):\n",
        "    cap = cv2.VideoCapture(input_path)\n",
        "    width = int(cap.get(cv2.CAP_PROP_FRAME_WIDTH))\n",
        "    height = int(cap.get(cv2.CAP_PROP_FRAME_HEIGHT))\n",
        "    fps = int(cap.get(cv2.CAP_PROP_FPS))\n",
        "\n",
        "    fourcc = cv2.VideoWriter_fourcc(*'mp4v')\n",
        "    out = cv2.VideoWriter(output_path, fourcc, fps, (width, height))\n",
        "\n",
        "    while cap.isOpened():\n",
        "        ret, frame = cap.read()\n",
        "        if not ret:\n",
        "            break\n",
        "\n",
        "        frame = detect_and_track(frame, model, tracker)\n",
        "        out.write(frame)\n",
        "\n",
        "    cap.release()\n",
        "    out.release()\n",
        "\n",
        "# Process the video\n",
        "input_path = 'test_video.mp4'\n",
        "output_path = 'output_video.mp4'\n",
        "process_video(input_path, output_path)"
      ],
      "metadata": {
        "colab": {
          "base_uri": "https://localhost:8080/",
          "height": 383
        },
        "id": "OJHGaHVCeo74",
        "outputId": "e4731f52-ad96-46e4-d3d0-afc71bb679d2"
      },
      "execution_count": 32,
      "outputs": [
        {
          "output_type": "error",
          "ename": "ModuleNotFoundError",
          "evalue": "No module named 'deep_sort'",
          "traceback": [
            "\u001b[0;31m---------------------------------------------------------------------------\u001b[0m",
            "\u001b[0;31mModuleNotFoundError\u001b[0m                       Traceback (most recent call last)",
            "\u001b[0;32m<ipython-input-32-4c18af6dcf82>\u001b[0m in \u001b[0;36m<cell line: 16>\u001b[0;34m()\u001b[0m\n\u001b[1;32m     14\u001b[0m \u001b[0;32mfrom\u001b[0m \u001b[0myolov5\u001b[0m\u001b[0;34m.\u001b[0m\u001b[0mutils\u001b[0m\u001b[0;34m.\u001b[0m\u001b[0mgeneral\u001b[0m \u001b[0;32mimport\u001b[0m \u001b[0mnon_max_suppression\u001b[0m\u001b[0;34m,\u001b[0m \u001b[0mscale_boxes\u001b[0m\u001b[0;34m\u001b[0m\u001b[0;34m\u001b[0m\u001b[0m\n\u001b[1;32m     15\u001b[0m \u001b[0;32mfrom\u001b[0m \u001b[0myolov5\u001b[0m\u001b[0;34m.\u001b[0m\u001b[0mutils\u001b[0m\u001b[0;34m.\u001b[0m\u001b[0mtorch_utils\u001b[0m \u001b[0;32mimport\u001b[0m \u001b[0mselect_device\u001b[0m\u001b[0;34m\u001b[0m\u001b[0;34m\u001b[0m\u001b[0m\n\u001b[0;32m---> 16\u001b[0;31m \u001b[0;32mfrom\u001b[0m \u001b[0mdeep_sort\u001b[0m \u001b[0;32mimport\u001b[0m \u001b[0mnn_matching\u001b[0m\u001b[0;34m\u001b[0m\u001b[0;34m\u001b[0m\u001b[0m\n\u001b[0m\u001b[1;32m     17\u001b[0m \u001b[0;32mfrom\u001b[0m \u001b[0mdeep_sort\u001b[0m\u001b[0;34m.\u001b[0m\u001b[0mdetection\u001b[0m \u001b[0;32mimport\u001b[0m \u001b[0mDetection\u001b[0m\u001b[0;34m\u001b[0m\u001b[0;34m\u001b[0m\u001b[0m\n\u001b[1;32m     18\u001b[0m \u001b[0;32mfrom\u001b[0m \u001b[0mdeep_sort\u001b[0m\u001b[0;34m.\u001b[0m\u001b[0mtracker\u001b[0m \u001b[0;32mimport\u001b[0m \u001b[0mTracker\u001b[0m\u001b[0;34m\u001b[0m\u001b[0;34m\u001b[0m\u001b[0m\n",
            "\u001b[0;31mModuleNotFoundError\u001b[0m: No module named 'deep_sort'",
            "",
            "\u001b[0;31m---------------------------------------------------------------------------\u001b[0;32m\nNOTE: If your import is failing due to a missing package, you can\nmanually install dependencies using either !pip or !apt.\n\nTo view examples of installing some common dependencies, click the\n\"Open Examples\" button below.\n\u001b[0;31m---------------------------------------------------------------------------\u001b[0m\n"
          ],
          "errorDetails": {
            "actions": [
              {
                "action": "open_url",
                "actionText": "Open Examples",
                "url": "/notebooks/snippets/importing_libraries.ipynb"
              }
            ]
          }
        }
      ]
    }
  ]
}